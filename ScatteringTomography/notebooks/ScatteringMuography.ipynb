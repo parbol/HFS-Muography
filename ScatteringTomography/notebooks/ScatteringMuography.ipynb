{
 "cells": [
  {
   "cell_type": "markdown",
   "id": "27566ed1-443c-41fa-87d4-2a8157ee946e",
   "metadata": {},
   "source": [
    "This simple note bla bla bla bla"
   ]
  },
  {
   "cell_type": "markdown",
   "id": "8039421d-31af-49c7-9fae-f21a55c447e4",
   "metadata": {},
   "source": [
    "Getting the data"
   ]
  },
  {
   "cell_type": "code",
   "execution_count": 3,
   "id": "b2118e66-8b95-4a98-aa14-b25e5777c1bb",
   "metadata": {},
   "outputs": [
    {
     "data": {
      "text/plain": [
       "('data.h5', <http.client.HTTPMessage at 0x7b910856e620>)"
      ]
     },
     "execution_count": 3,
     "metadata": {},
     "output_type": "execute_result"
    }
   ],
   "source": [
    "import urllib.request\n",
    "urllib.request.urlretrieve('https://cernbox.cern.ch/remote.php/dav/public-files/FGVtNuNgiSO4VyZ/data.h5', 'data.h5')"
   ]
  },
  {
   "cell_type": "markdown",
   "id": "3c88fd59-5782-46be-b659-43ae144c71e3",
   "metadata": {},
   "source": [
    "Reading the data"
   ]
  },
  {
   "cell_type": "code",
   "execution_count": 1,
   "id": "5ed1d1db-ddba-4b70-a12a-8084e9e10c0a",
   "metadata": {},
   "outputs": [],
   "source": [
    "import pandas as pd\n",
    "dataset= pd.read_hdf('./data.h5')"
   ]
  },
  {
   "cell_type": "markdown",
   "id": "84a9cd51-8e30-43d7-8b41-200434fd6c1a",
   "metadata": {},
   "source": [
    "Dictionary to make the plots"
   ]
  },
  {
   "cell_type": "code",
   "execution_count": 2,
   "id": "894bb62a-e401-4778-8fdd-4ead307b93b9",
   "metadata": {},
   "outputs": [],
   "source": [
    "#Data structure for selection and plotting\n",
    "binInfo = dict()\n",
    "binInfo['threshold1'] = 0.0\n",
    "binInfo['threshold2'] = 0.0\n",
    "binInfo['xynbinx'] = 160\n",
    "binInfo['xynbiny'] = 160\n",
    "binInfo['xznbinx'] = 160\n",
    "binInfo['xznbinz'] = 160\n",
    "binInfo['yznbiny'] = 160\n",
    "binInfo['yznbinz'] = 160\n",
    "binInfo['limitX'] = [-30, 30]\n",
    "binInfo['limitY'] = [-30, 30]\n",
    "binInfo['limitZ'] = [-5, 5]\n"
   ]
  },
  {
   "cell_type": "markdown",
   "id": "57b79185-3585-4e64-8f12-2d958ead0958",
   "metadata": {},
   "source": [
    "This function returns the point of closest approach"
   ]
  },
  {
   "cell_type": "code",
   "execution_count": 3,
   "id": "b42fa6c2-215d-4afc-9600-b0a43a5cc41a",
   "metadata": {},
   "outputs": [],
   "source": [
    "import numpy as np\n",
    "\n",
    "def getPoint(r1, r2, v1, v2):\n",
    "\n",
    "    #Calculation of the closest point of approach\n",
    "    cross_st = np.cross(v1, v2)\n",
    "    cross_stnorm = np.linalg.norm(cross_st)\n",
    "    vts = np.dot(v1, v2)\n",
    "    if cross_stnorm < 1.0e-6 or vts < 1.0e-6:\n",
    "        return False, [0, 0, 0]\n",
    "    cross_sst = np.cross(v1, cross_st)\n",
    "    DeltaR = r1 - r2\n",
    "    xpoca2 = r2 - v2 * np.dot(DeltaR, cross_sst)/cross_stnorm**2\n",
    "    xpoca1 = r1 + v1 * np.dot((xpoca2-r1), v1)/vts\n",
    "    v = 0.5 * (xpoca1 + xpoca2)\n",
    "    return True, v"
   ]
  },
  {
   "cell_type": "markdown",
   "id": "b7df9f14-499c-4839-9ec1-302ffab5748d",
   "metadata": {},
   "source": [
    "Now looping the dataset"
   ]
  },
  {
   "cell_type": "code",
   "execution_count": null,
   "id": "6f5a2da2-a80a-4955-afa9-0aedadec8444",
   "metadata": {},
   "outputs": [],
   "source": [
    "ax = []\n",
    "ay = []\n",
    "az = []\n",
    "\n",
    "# loop through the rows using iterrows()\n",
    "for index, row in dataset.iterrows():\n",
    "    #if index > 100:\n",
    "    #    break\n",
    "    r1 = np.asarray([row['x1'], row['y1'], row['z1']])\n",
    "    r2 = np.asarray([row['x2'], row['y2'], row['z2']])\n",
    "    v1 = np.asarray([row['vx1'], row['vy1'], row['vz1']])\n",
    "    v2 = np.asarray([row['vx2'], row['vy2'], row['vz2']])\n",
    "    dtx = row['dthetax']\n",
    "    dty = row['dthetay']\n",
    "\n",
    "    valid = False\n",
    "    ###Apply here a simple angular selection\n",
    "    if abs(dtx) > binInfo['threshold1'] or abs(dty) > binInfo['threshold2']:\n",
    "        valid, v = getPoint(r1, r2, v1, v2)\n",
    "        if not valid:\n",
    "            continue\n",
    "        if v[0] < binInfo['limitX'][0] or v[0] > binInfo['limitX'][1]:\n",
    "            continue\n",
    "        if v[1] < binInfo['limitY'][0] or v[1] > binInfo['limitY'][1]:\n",
    "            continue\n",
    "        if v[2] < binInfo['limitZ'][0] or v[2] > binInfo['limitZ'][1]:\n",
    "            continue\n",
    "        ax.append(v[0])\n",
    "        ay.append(v[1])\n",
    "        az.append(v[2])\n",
    "    else:\n",
    "        continue\n",
    "    x = np.asarray(ax)\n",
    "    y = np.asarray(ay)\n",
    "    z = np.asarray(az)"
   ]
  },
  {
   "cell_type": "markdown",
   "id": "0eb35cd6-2268-46d8-81db-d9875ecbbcf3",
   "metadata": {},
   "source": [
    "Create all the canvases and plot"
   ]
  },
  {
   "cell_type": "code",
   "execution_count": null,
   "id": "da410d46-94c2-4092-b56a-42c5a4aa2a9b",
   "metadata": {},
   "outputs": [],
   "source": [
    "import matplotlib.pyplot as plt\n",
    "\n",
    "fig, ax = plt.subplots(1, 3, figsize=(16, 5))\n",
    "ax[0].set_title('Frontal view XY')\n",
    "ax[1].set_title('Side view XZ')\n",
    "ax[2].set_title('Side view YZ')\n",
    "ax[0].set_xlabel('X [cm]')\n",
    "ax[0].set_ylabel('Y [cm]')\n",
    "ax[1].set_xlabel('X [cm]')\n",
    "ax[1].set_ylabel('Z [cm]')\n",
    "ax[2].set_xlabel('Y [cm]')\n",
    "ax[2].set_ylabel('Z [cm]')\n",
    "\n",
    "ax[0].hist2d(x, y, bins=(binInfo['xynbinx'], binInfo['xynbiny']), cmap=plt.cm.jet)\n",
    "ax[1].hist2d(x, z, bins=(binInfo['xznbinx'], binInfo['xznbinz']), cmap=plt.cm.jet)\n",
    "ax[2].hist2d(y, z, bins=(binInfo['yznbiny'], binInfo['yznbinz']), cmap=plt.cm.jet)\n"
   ]
  },
  {
   "cell_type": "code",
   "execution_count": null,
   "id": "65326e12-1406-464d-a7f2-70c4a3225821",
   "metadata": {},
   "outputs": [],
   "source": []
  }
 ],
 "metadata": {
  "kernelspec": {
   "display_name": "Python 3 (ipykernel)",
   "language": "python",
   "name": "python3"
  },
  "language_info": {
   "codemirror_mode": {
    "name": "ipython",
    "version": 3
   },
   "file_extension": ".py",
   "mimetype": "text/x-python",
   "name": "python",
   "nbconvert_exporter": "python",
   "pygments_lexer": "ipython3",
   "version": "3.10.12"
  }
 },
 "nbformat": 4,
 "nbformat_minor": 5
}
