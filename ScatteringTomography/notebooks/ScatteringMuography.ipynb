{
 "cells": [
  {
   "cell_type": "markdown",
   "id": "27566ed1-443c-41fa-87d4-2a8157ee946e",
   "metadata": {},
   "source": [
    "# Muon Tomography exercise\n",
    "\n",
    "## 1.-Introduction\n",
    "\n",
    "The following exercise implements an example of Scattering Muon Tomography. Three datasets containing the positions and directions of cosmic muons before and after a target are provided. For more information on the setup go the corresponding lecture on indico.\n",
    "\n",
    "The exercise features one of the most well-known muography algorithms: the Point-Of-Closest-Approach (POCA) approach. The algorithm is quite simple, nevertheless it is already implemented. Across the exercise, you will have to tune some of the parameters, add some plots and answer several questions.  "
   ]
  },
  {
   "cell_type": "markdown",
   "id": "8039421d-31af-49c7-9fae-f21a55c447e4",
   "metadata": {},
   "source": [
    "## 2.- Getting the data\n",
    "\n",
    "Three datasets are available at my cernbox repository. The size is about 50 MB per dataset. Just execute the code bellow to download them."
   ]
  },
  {
   "cell_type": "code",
   "execution_count": 2,
   "id": "b2118e66-8b95-4a98-aa14-b25e5777c1bb",
   "metadata": {},
   "outputs": [
    {
     "data": {
      "text/plain": [
       "('dataset3.h5', <http.client.HTTPMessage at 0x7a10144b6350>)"
      ]
     },
     "execution_count": 2,
     "metadata": {},
     "output_type": "execute_result"
    }
   ],
   "source": [
    "import urllib.request\n",
    "urllib.request.urlretrieve('https://cernbox.cern.ch/remote.php/dav/public-files/UMKEEe1o9RTinAM/DataMuongraphy/dataset1.h5', 'dataset1.h5')\n",
    "urllib.request.urlretrieve('https://cernbox.cern.ch/remote.php/dav/public-files/joA77dgwabTehqf/DataMuongraphy/dataset2.h5', 'dataset2.h5')\n",
    "urllib.request.urlretrieve('https://cernbox.cern.ch/remote.php/dav/public-files/f52Jg66HwG1auVD/DataMuongraphy/dataset3.h5', 'dataset3.h5')\n",
    "               "
   ]
  },
  {
   "cell_type": "markdown",
   "id": "3c88fd59-5782-46be-b659-43ae144c71e3",
   "metadata": {},
   "source": [
    "## 3.- Reading the datasets\n",
    "\n",
    "In this application we will use pandas to read the dataset. They are stored in hdf5 format which is one of the most commonly used formats in machine learning applications today.\n",
    "\n",
    "Load one dataset at a time. Start the exercise with './dataset1.h5'. For some of the questions you will have to run on the other datasets and explain your observations. "
   ]
  },
  {
   "cell_type": "code",
   "execution_count": 1,
   "id": "5ed1d1db-ddba-4b70-a12a-8084e9e10c0a",
   "metadata": {},
   "outputs": [],
   "source": [
    "import pandas as pd\n",
    "dataset= pd.read_hdf('./dataset1.h5')"
   ]
  },
  {
   "cell_type": "markdown",
   "id": "84a9cd51-8e30-43d7-8b41-200434fd6c1a",
   "metadata": {},
   "source": [
    "## 4.- Selection cuts and parameters\n",
    "\n",
    "The following dictionary contains parameters related to the application of the POCA algorithm. In particular:\n",
    "\n",
    "* 'theshold1' and 'threshold2' select events according to the angular deviation the muon suffered in the x and y directions respectively. These numbers are given in radians.\n",
    "* 'VWnbinP' is the number of bins in the VW projection (VW=XY, XZ, YZ) and in the P coordinate (P= X, Y, Z).\n",
    "* 'limitV' contains the limits of the region that will be explored in the V coordinate (V = X, Y, Z). POCA points outside this region will not be considered. These numbers are given in centimeters.\n",
    "\n",
    "Later you will have to tune these numbers to obtain a good image of the target."
   ]
  },
  {
   "cell_type": "code",
   "execution_count": 2,
   "id": "894bb62a-e401-4778-8fdd-4ead307b93b9",
   "metadata": {},
   "outputs": [],
   "source": [
    "#Data structure for selection and plotting\n",
    "\n",
    "binInfo = dict()\n",
    "binInfo['threshold1'] = 1.0\n",
    "binInfo['threshold2'] = 1.0\n",
    "binInfo['xynbinx'] = 5\n",
    "binInfo['xynbiny'] = 5\n",
    "binInfo['xznbinx'] = 5\n",
    "binInfo['xznbinz'] = 5\n",
    "binInfo['yznbiny'] = 5\n",
    "binInfo['yznbinz'] = 5\n",
    "binInfo['limitX'] = [-100, 100]\n",
    "binInfo['limitY'] = [-100, 100]\n",
    "binInfo['limitZ'] = [-100, 100]\n"
   ]
  },
  {
   "cell_type": "markdown",
   "id": "57b79185-3585-4e64-8f12-2d958ead0958",
   "metadata": {},
   "source": [
    "## 5.- Calculation of the POCA\n",
    "\n",
    "Nothing has to be done in this function, but please take your time to see the implementation and understand the geometrical concept behind."
   ]
  },
  {
   "cell_type": "code",
   "execution_count": 3,
   "id": "b42fa6c2-215d-4afc-9600-b0a43a5cc41a",
   "metadata": {},
   "outputs": [],
   "source": [
    "import numpy as np\n",
    "\n",
    "def getPoint(r1, r2, v1, v2):\n",
    "\n",
    "    #Calculation of the closest point of approach\n",
    "    cross_st = np.cross(v1, v2)\n",
    "    cross_stnorm = np.linalg.norm(cross_st)\n",
    "    vts = np.dot(v1, v2)\n",
    "    if cross_stnorm < 1.0e-6 or vts < 1.0e-6:\n",
    "        return False, [0, 0, 0]\n",
    "    cross_sst = np.cross(v1, cross_st)\n",
    "    DeltaR = r1 - r2\n",
    "    xpoca2 = r2 - v2 * np.dot(DeltaR, cross_sst)/cross_stnorm**2\n",
    "    xpoca1 = r1 + v1 * np.dot((xpoca2-r1), v1)/vts\n",
    "    v = 0.5 * (xpoca1 + xpoca2)\n",
    "    return True, v"
   ]
  },
  {
   "cell_type": "markdown",
   "id": "b7df9f14-499c-4839-9ec1-302ffab5748d",
   "metadata": {},
   "source": [
    "## 6.- Looping through the dataset\n",
    "\n",
    "This part of the code loops through the dataset and stores the POCA points in arrays. Please take your time to understand the selection criteria applied. \n"
   ]
  },
  {
   "cell_type": "code",
   "execution_count": null,
   "id": "6f5a2da2-a80a-4955-afa9-0aedadec8444",
   "metadata": {},
   "outputs": [],
   "source": [
    "ax = []\n",
    "ay = []\n",
    "az = []\n",
    "\n",
    "# loop through the rows using iterrows()\n",
    "for index, row in dataset.iterrows():\n",
    "    #if index > 100:\n",
    "    #    break\n",
    "    r1 = np.asarray([row['x1'], row['y1'], row['z1']])\n",
    "    r2 = np.asarray([row['x2'], row['y2'], row['z2']])\n",
    "    v1 = np.asarray([row['vx1'], row['vy1'], row['vz1']])\n",
    "    v2 = np.asarray([row['vx2'], row['vy2'], row['vz2']])\n",
    "    dtx = row['dthetax']\n",
    "    dty = row['dthetay']\n",
    "\n",
    "    valid = False\n",
    "    ###Apply here a simple angular selection\n",
    "    if abs(dtx) > binInfo['threshold1'] or abs(dty) > binInfo['threshold2']:\n",
    "        valid, v = getPoint(r1, r2, v1, v2)\n",
    "        if not valid:\n",
    "            continue\n",
    "        if v[0] < binInfo['limitX'][0] or v[0] > binInfo['limitX'][1]:\n",
    "            continue\n",
    "        if v[1] < binInfo['limitY'][0] or v[1] > binInfo['limitY'][1]:\n",
    "            continue\n",
    "        if v[2] < binInfo['limitZ'][0] or v[2] > binInfo['limitZ'][1]:\n",
    "            continue\n",
    "        ax.append(v[0])\n",
    "        ay.append(v[1])\n",
    "        az.append(v[2])\n",
    "    else:\n",
    "        continue\n",
    "    x = np.asarray(ax)\n",
    "    y = np.asarray(ay)\n",
    "    z = np.asarray(az)"
   ]
  },
  {
   "cell_type": "markdown",
   "id": "0eb35cd6-2268-46d8-81db-d9875ecbbcf3",
   "metadata": {},
   "source": [
    "## 7.- Create all the plots \n",
    "\n",
    "This piece of code creates all the plots. Later on you will have to modify and add more plots. "
   ]
  },
  {
   "cell_type": "code",
   "execution_count": null,
   "id": "da410d46-94c2-4092-b56a-42c5a4aa2a9b",
   "metadata": {},
   "outputs": [],
   "source": [
    "import matplotlib.pyplot as plt\n",
    "\n",
    "fig, ax = plt.subplots(1, 3, figsize=(16, 5))\n",
    "ax[0].set_title('Frontal view XY')\n",
    "ax[1].set_title('Side view XZ')\n",
    "ax[2].set_title('Side view YZ')\n",
    "ax[0].set_xlabel('X [cm]')\n",
    "ax[0].set_ylabel('Y [cm]')\n",
    "ax[1].set_xlabel('X [cm]')\n",
    "ax[1].set_ylabel('Z [cm]')\n",
    "ax[2].set_xlabel('Y [cm]')\n",
    "ax[2].set_ylabel('Z [cm]')\n",
    "\n",
    "ax[0].hist2d(x, y, bins=(binInfo['xynbinx'], binInfo['xynbiny']), cmap=plt.cm.jet)\n",
    "ax[1].hist2d(x, z, bins=(binInfo['xznbinx'], binInfo['xznbinz']), cmap=plt.cm.jet)\n",
    "ax[2].hist2d(y, z, bins=(binInfo['yznbiny'], binInfo['yznbinz']), cmap=plt.cm.jet)\n"
   ]
  },
  {
   "cell_type": "markdown",
   "id": "0e3db8f0-7a11-4861-b769-4377740b8cad",
   "metadata": {},
   "source": [
    "## 8.- Exercises and questions"
   ]
  },
  {
   "cell_type": "markdown",
   "id": "01de3567-bee2-4777-9322-14f233b6dad1",
   "metadata": {},
   "source": [
    "##### Q1. Start with the first dataset. Tune the parameters until you see something meaninful in the plots. Take into account that looping through the dataset takes some time, so try to limit the number of steps but thinking about the geometry described in the slides."
   ]
  },
  {
   "cell_type": "markdown",
   "id": "e19573ed-76fe-471c-b70a-9dd5441fe65e",
   "metadata": {},
   "source": []
  },
  {
   "cell_type": "markdown",
   "id": "286428dc-216b-4702-b4a5-f76080a47701",
   "metadata": {},
   "source": [
    "##### Q2. Take a look at the three projections XY, XZ, and YZ. Is the resolution the same in all of them? Which one is better? Try to explain why."
   ]
  },
  {
   "cell_type": "markdown",
   "id": "ce1d9b8b-1b5d-47bf-8e9c-31358c176b48",
   "metadata": {},
   "source": []
  },
  {
   "cell_type": "markdown",
   "id": "b1e2c650-26f3-40ae-9c1a-6cca0f05a431",
   "metadata": {},
   "source": [
    "##### Q3. Implement two additional plots showing the 1D distribution of the x and y angular distributions."
   ]
  },
  {
   "cell_type": "markdown",
   "id": "672f826f-e153-4c06-95b4-a687dc160645",
   "metadata": {},
   "source": []
  },
  {
   "cell_type": "markdown",
   "id": "5ad7c84f-a122-4a41-9e2e-7eb88b7c1414",
   "metadata": {},
   "source": [
    "##### Q4. Use now the second dataset with the parameters you found before. What do you see? Do you have an hypothesis about what's going on with this dataset?"
   ]
  },
  {
   "cell_type": "markdown",
   "id": "c37f93e9-8157-4504-a05b-c340c36f30f2",
   "metadata": {},
   "source": []
  },
  {
   "cell_type": "markdown",
   "id": "04ba6fef-34ad-4f03-acd6-6c111f78b6a8",
   "metadata": {},
   "source": [
    "##### Q5. Can you improve the previous images by tuning the angular cuts?"
   ]
  },
  {
   "cell_type": "markdown",
   "id": "ab5e4967-74fd-46d9-a5dc-3e3c3ac42944",
   "metadata": {},
   "source": []
  },
  {
   "cell_type": "markdown",
   "id": "c394b97e-fb0b-49f0-b147-5738a9a0053b",
   "metadata": {},
   "source": [
    "##### Q6. Have a look at the 1D angular distributions. What do you see?"
   ]
  },
  {
   "cell_type": "markdown",
   "id": "ed77b46f-f264-4cc2-9f92-dc1a61fbdda5",
   "metadata": {},
   "source": []
  },
  {
   "cell_type": "markdown",
   "id": "d19630af-ee5c-4fb9-a0de-abc0d0bb9b83",
   "metadata": {},
   "source": [
    "##### Q7. Use now the third dataset with the parameters you found for the first dataset. What do you see? Do you have an hypothesis about what's going on with this dataset?"
   ]
  },
  {
   "cell_type": "code",
   "execution_count": null,
   "id": "d0ce53a8-6007-4fc0-88aa-c393d92e0d8c",
   "metadata": {},
   "outputs": [],
   "source": []
  },
  {
   "cell_type": "markdown",
   "id": "e2f08368-e2b8-4512-995c-85a1ac373f99",
   "metadata": {},
   "source": [
    "##### Q8. Can you improve the previous image by tuning the angular cuts?"
   ]
  },
  {
   "cell_type": "code",
   "execution_count": null,
   "id": "3de3fb9e-f1a3-4c41-a695-7318bd599188",
   "metadata": {},
   "outputs": [],
   "source": []
  },
  {
   "cell_type": "markdown",
   "id": "150a7e31-4fd2-403a-b5d2-e8069460ef57",
   "metadata": {},
   "source": [
    "##### Q9. Have a look at the 1D angular distributions. What do you see?"
   ]
  },
  {
   "cell_type": "markdown",
   "id": "18769f1d-e818-4345-b802-64cd14d97c19",
   "metadata": {},
   "source": []
  }
 ],
 "metadata": {
  "kernelspec": {
   "display_name": "Python 3 (ipykernel)",
   "language": "python",
   "name": "python3"
  },
  "language_info": {
   "codemirror_mode": {
    "name": "ipython",
    "version": 3
   },
   "file_extension": ".py",
   "mimetype": "text/x-python",
   "name": "python",
   "nbconvert_exporter": "python",
   "pygments_lexer": "ipython3",
   "version": "3.10.12"
  }
 },
 "nbformat": 4,
 "nbformat_minor": 5
}
